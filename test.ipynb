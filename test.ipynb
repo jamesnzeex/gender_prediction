{
 "cells": [
  {
   "cell_type": "code",
   "execution_count": 3,
   "metadata": {},
   "outputs": [
    {
     "name": "stdout",
     "output_type": "stream",
     "text": [
      "1188/1188 [==============================] - 101s 80ms/step - loss: 0.4103 - accuracy: 0.8141 - val_loss: 0.3501 - val_accuracy: 0.8479 - lr: 0.0010\n",
      " * Serving Flask app \"__main__\" (lazy loading)\n",
      " * Environment: production\n",
      "\u001b[31m   WARNING: This is a development server. Do not use it in a production deployment.\u001b[0m\n",
      "\u001b[2m   Use a production WSGI server instead.\u001b[0m\n",
      " * Debug mode: off\n"
     ]
    },
    {
     "name": "stderr",
     "output_type": "stream",
     "text": [
      " * Running on http://127.0.0.1:5000/ (Press CTRL+C to quit)\n"
     ]
    },
    {
     "name": "stdout",
     "output_type": "stream",
     "text": [
      "Name: ['James', 'Sam']\n",
      "1/1 [==============================] - 1s 769ms/step\n"
     ]
    },
    {
     "name": "stderr",
     "output_type": "stream",
     "text": [
      "127.0.0.1 - - [18/Aug/2022 02:59:03] \"\u001b[37mPOST / HTTP/1.1\u001b[0m\" 200 -\n"
     ]
    }
   ],
   "source": [
    "import os\n",
    "import train\n",
    "import utils\n",
    "import numpy as np\n",
    "import pandas as pd\n",
    "\n",
    "from flask import Flask, jsonify, request\n",
    "from tensorflow.keras.models import load_model\n",
    "app = Flask(__name__)\n",
    "\n",
    "model_path = os.path.join(os.getcwd(), 'model/saved_model.h5')\n",
    "if os.path.exists(model_path):\n",
    "    model = load_model(model_path)\n",
    "else:\n",
    "    model,_ = train.train(epoch=1)\n",
    "\n",
    "@app.route('/', methods=['GET', 'POST'])\n",
    "def predict():\n",
    "    data = request.get_json()\n",
    "    name = data.get('name')\n",
    "    try:\n",
    "        df = pd.DataFrame({'name': name})\n",
    "    except:\n",
    "        name = [name]\n",
    "        df = pd.DataFrame({'name': name}, index=[0])\n",
    "    df = utils.preprocess(df, train=False)\n",
    "    result = model.predict(np.asarray(df['name'].values.tolist())).squeeze(axis=1)\n",
    "    df['gender'] = ['Male' if logit > 0.5 else 'Female' for logit in result]\n",
    "    df['probability'] = [logit if logit > 0.5 else 1.0 - logit for logit in result]\n",
    "    gender_prediction = dict(zip(name, df['gender'].to_list()))\n",
    "    return jsonify(gender_prediction)\n",
    "\n",
    "app.run()"
   ]
  },
  {
   "cell_type": "markdown",
   "metadata": {},
   "source": [
    "curl -X POST -d \"{\\\"name\\\": [\\\"James\\\", \\\"Sam\\\"]}\" http://127.0.0.1:5000/ -H \"Content-Type:application/json\""
   ]
  },
  {
   "cell_type": "code",
   "execution_count": null,
   "metadata": {},
   "outputs": [],
   "source": []
  }
 ],
 "metadata": {
  "kernelspec": {
   "display_name": "Python 3.8.11 ('base')",
   "language": "python",
   "name": "python3"
  },
  "language_info": {
   "codemirror_mode": {
    "name": "ipython",
    "version": 3
   },
   "file_extension": ".py",
   "mimetype": "text/x-python",
   "name": "python",
   "nbconvert_exporter": "python",
   "pygments_lexer": "ipython3",
   "version": "3.8.11"
  },
  "orig_nbformat": 4,
  "vscode": {
   "interpreter": {
    "hash": "594cbcb53b7eb24b01ad1ace3292a9583de43e996a12a214afbcf4f5a5715dd8"
   }
  }
 },
 "nbformat": 4,
 "nbformat_minor": 2
}
